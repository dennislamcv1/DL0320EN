{
 "cells": [
  {
   "cell_type": "code",
   "execution_count": 1,
   "metadata": {},
   "outputs": [],
   "source": [
    "import numpy as np\n",
    "import pandas as pd\n",
    "%matplotlib inline\n",
    "import matplotlib\n",
    "import matplotlib.pyplot as plt\n",
    "import tensorflow as tf\n",
    "from tensorflow import keras\n",
    "\n",
    "from tensorflow.keras.preprocessing.image import ImageDataGenerator\n",
    "from tensorflow.keras.applications import VGG16\n",
    "from tensorflow.keras.applications.vgg16 import preprocess_input \n",
    "from tensorflow.keras import models\n",
    "from tensorflow.keras import layers\n",
    "from tensorflow.keras import optimizers\n",
    "from tensorflow.keras.callbacks import EarlyStopping, ModelCheckpoint\n",
    "from tensorflow.keras.models import load_model\n",
    "\n",
    "from PIL import Image, ImageDraw, ImageFont"
   ]
  },
  {
   "cell_type": "code",
   "execution_count": 2,
   "metadata": {},
   "outputs": [],
   "source": [
    "train_dir = r'C:\\Users\\Dennis\\Desktop\\DL0320EN\\train'\n",
    "validation_dir = r'C:\\Users\\Dennis\\Desktop\\DL0320EN\\valid'\n",
    "test_dir =r'C:\\Users\\Dennis\\Desktop\\DL0320EN\\test'"
   ]
  },
  {
   "cell_type": "code",
   "execution_count": 3,
   "metadata": {},
   "outputs": [],
   "source": [
    "cl = ['5', '10', '20', '50', '100', '200', '500']"
   ]
  },
  {
   "cell_type": "code",
   "execution_count": 4,
   "metadata": {
    "scrolled": true
   },
   "outputs": [
    {
     "name": "stdout",
     "output_type": "stream",
     "text": [
      "Found 70 images belonging to 7 classes.\n",
      "Found 70 images belonging to 7 classes.\n"
     ]
    }
   ],
   "source": [
    "# Generating batches of tensor image data\n",
    "train_datagen = ImageDataGenerator(rescale=1./255)\n",
    "valid_datagen = ImageDataGenerator(rescale=1./255)\n",
    "test_datagen = ImageDataGenerator(rescale=1./255)\n",
    "\n",
    "train_generator = train_datagen.flow_from_directory(\n",
    "        train_dir,\n",
    "        target_size=(224, 224),\n",
    "        batch_size=5,\n",
    "        class_mode='categorical',\n",
    "        classes = cl,\n",
    "        seed = 0\n",
    "        )\n",
    "\n",
    "validation_generator = valid_datagen.flow_from_directory(\n",
    "        validation_dir,\n",
    "        target_size=(224, 224),\n",
    "        batch_size=5,\n",
    "        class_mode='categorical',\n",
    "        classes = cl,\n",
    "        seed = 0\n",
    "        )\n",
    "\n",
    "\n"
   ]
  },
  {
   "cell_type": "code",
   "execution_count": 5,
   "metadata": {},
   "outputs": [],
   "source": [
    "conv_base = VGG16(weights='imagenet',\n",
    "                  include_top=False,\n",
    "                  input_shape=(224, 224, 3))"
   ]
  },
  {
   "cell_type": "code",
   "execution_count": 6,
   "metadata": {},
   "outputs": [
    {
     "name": "stdout",
     "output_type": "stream",
     "text": [
      "Model: \"vgg16\"\n",
      "_________________________________________________________________\n",
      "Layer (type)                 Output Shape              Param #   \n",
      "=================================================================\n",
      "input_1 (InputLayer)         [(None, 224, 224, 3)]     0         \n",
      "_________________________________________________________________\n",
      "block1_conv1 (Conv2D)        (None, 224, 224, 64)      1792      \n",
      "_________________________________________________________________\n",
      "block1_conv2 (Conv2D)        (None, 224, 224, 64)      36928     \n",
      "_________________________________________________________________\n",
      "block1_pool (MaxPooling2D)   (None, 112, 112, 64)      0         \n",
      "_________________________________________________________________\n",
      "block2_conv1 (Conv2D)        (None, 112, 112, 128)     73856     \n",
      "_________________________________________________________________\n",
      "block2_conv2 (Conv2D)        (None, 112, 112, 128)     147584    \n",
      "_________________________________________________________________\n",
      "block2_pool (MaxPooling2D)   (None, 56, 56, 128)       0         \n",
      "_________________________________________________________________\n",
      "block3_conv1 (Conv2D)        (None, 56, 56, 256)       295168    \n",
      "_________________________________________________________________\n",
      "block3_conv2 (Conv2D)        (None, 56, 56, 256)       590080    \n",
      "_________________________________________________________________\n",
      "block3_conv3 (Conv2D)        (None, 56, 56, 256)       590080    \n",
      "_________________________________________________________________\n",
      "block3_pool (MaxPooling2D)   (None, 28, 28, 256)       0         \n",
      "_________________________________________________________________\n",
      "block4_conv1 (Conv2D)        (None, 28, 28, 512)       1180160   \n",
      "_________________________________________________________________\n",
      "block4_conv2 (Conv2D)        (None, 28, 28, 512)       2359808   \n",
      "_________________________________________________________________\n",
      "block4_conv3 (Conv2D)        (None, 28, 28, 512)       2359808   \n",
      "_________________________________________________________________\n",
      "block4_pool (MaxPooling2D)   (None, 14, 14, 512)       0         \n",
      "_________________________________________________________________\n",
      "block5_conv1 (Conv2D)        (None, 14, 14, 512)       2359808   \n",
      "_________________________________________________________________\n",
      "block5_conv2 (Conv2D)        (None, 14, 14, 512)       2359808   \n",
      "_________________________________________________________________\n",
      "block5_conv3 (Conv2D)        (None, 14, 14, 512)       2359808   \n",
      "_________________________________________________________________\n",
      "block5_pool (MaxPooling2D)   (None, 7, 7, 512)         0         \n",
      "=================================================================\n",
      "Total params: 14,714,688\n",
      "Trainable params: 14,714,688\n",
      "Non-trainable params: 0\n",
      "_________________________________________________________________\n"
     ]
    }
   ],
   "source": [
    "conv_base.summary()"
   ]
  },
  {
   "cell_type": "code",
   "execution_count": 7,
   "metadata": {},
   "outputs": [],
   "source": [
    "conv_base.trainable = False"
   ]
  },
  {
   "cell_type": "code",
   "execution_count": 8,
   "metadata": {},
   "outputs": [],
   "source": [
    "model = models.Sequential()\n",
    "model.add(conv_base)\n",
    "model.add(layers.Flatten())\n",
    "model.add(layers.Dense(7,activation='softmax'))"
   ]
  },
  {
   "cell_type": "code",
   "execution_count": 9,
   "metadata": {},
   "outputs": [
    {
     "name": "stdout",
     "output_type": "stream",
     "text": [
      "Model: \"sequential\"\n",
      "_________________________________________________________________\n",
      "Layer (type)                 Output Shape              Param #   \n",
      "=================================================================\n",
      "vgg16 (Model)                (None, 7, 7, 512)         14714688  \n",
      "_________________________________________________________________\n",
      "flatten (Flatten)            (None, 25088)             0         \n",
      "_________________________________________________________________\n",
      "dense (Dense)                (None, 7)                 175623    \n",
      "=================================================================\n",
      "Total params: 14,890,311\n",
      "Trainable params: 175,623\n",
      "Non-trainable params: 14,714,688\n",
      "_________________________________________________________________\n"
     ]
    }
   ],
   "source": [
    "model.summary()"
   ]
  },
  {
   "cell_type": "code",
   "execution_count": 10,
   "metadata": {},
   "outputs": [],
   "source": [
    "model.compile(optimizer='adam',loss='categorical_crossentropy',metrics=['accuracy'])"
   ]
  },
  {
   "cell_type": "code",
   "execution_count": 11,
   "metadata": {},
   "outputs": [],
   "source": [
    "checkpoint = ModelCheckpoint(\"vgg16.h5\",monitor='val_loss',verbose=1,save_best_only=True)"
   ]
  },
  {
   "cell_type": "code",
   "execution_count": 12,
   "metadata": {},
   "outputs": [],
   "source": [
    "early = EarlyStopping(monitor='val_loss',min_delta=0,patience=3,verbose=1)"
   ]
  },
  {
   "cell_type": "code",
   "execution_count": 13,
   "metadata": {},
   "outputs": [
    {
     "name": "stdout",
     "output_type": "stream",
     "text": [
      "Epoch 1/20\n",
      "4/5 [=======================>......] - ETA: 8s - loss: 2.9892 - accuracy: 0.2000   \n",
      "Epoch 00001: val_loss improved from inf to 1.51030, saving model to vgg16.h5\n",
      "5/5 [==============================] - 52s 10s/step - loss: 3.0568 - accuracy: 0.2400 - val_loss: 1.5103 - val_accuracy: 0.6800\n",
      "Epoch 2/20\n",
      "4/5 [=======================>......] - ETA: 7s - loss: 1.4640 - accuracy: 0.4500 \n",
      "Epoch 00002: val_loss did not improve from 1.51030\n",
      "5/5 [==============================] - 49s 10s/step - loss: 1.3024 - accuracy: 0.4800 - val_loss: 1.7326 - val_accuracy: 0.5200\n",
      "Epoch 3/20\n",
      "4/5 [=======================>......] - ETA: 8s - loss: 0.8421 - accuracy: 0.7500 \n",
      "Epoch 00003: val_loss improved from 1.51030 to 0.70885, saving model to vgg16.h5\n",
      "5/5 [==============================] - 55s 11s/step - loss: 0.6908 - accuracy: 0.8000 - val_loss: 0.7089 - val_accuracy: 0.7200\n",
      "Epoch 4/20\n",
      "4/5 [=======================>......] - ETA: 8s - loss: 0.3370 - accuracy: 0.9000 \n",
      "Epoch 00004: val_loss did not improve from 0.70885\n",
      "5/5 [==============================] - 54s 11s/step - loss: 0.4245 - accuracy: 0.8800 - val_loss: 0.7774 - val_accuracy: 0.8400\n",
      "Epoch 5/20\n",
      "4/5 [=======================>......] - ETA: 8s - loss: 0.1349 - accuracy: 0.9500 \n",
      "Epoch 00005: val_loss improved from 0.70885 to 0.70093, saving model to vgg16.h5\n",
      "5/5 [==============================] - 55s 11s/step - loss: 0.1082 - accuracy: 0.9600 - val_loss: 0.7009 - val_accuracy: 0.8400\n",
      "Epoch 6/20\n",
      "4/5 [=======================>......] - ETA: 9s - loss: 0.1367 - accuracy: 0.9000 \n",
      "Epoch 00006: val_loss improved from 0.70093 to 0.64473, saving model to vgg16.h5\n",
      "5/5 [==============================] - 60s 12s/step - loss: 0.1095 - accuracy: 0.9200 - val_loss: 0.6447 - val_accuracy: 0.8800\n",
      "Epoch 7/20\n",
      "4/5 [=======================>......] - ETA: 8s - loss: 0.0168 - accuracy: 1.0000 \n",
      "Epoch 00007: val_loss improved from 0.64473 to 0.39379, saving model to vgg16.h5\n",
      "5/5 [==============================] - 54s 11s/step - loss: 0.0216 - accuracy: 1.0000 - val_loss: 0.3938 - val_accuracy: 0.8800\n",
      "Epoch 8/20\n",
      "4/5 [=======================>......] - ETA: 8s - loss: 0.0024 - accuracy: 1.0000   \n",
      "Epoch 00008: val_loss improved from 0.39379 to 0.28697, saving model to vgg16.h5\n",
      "5/5 [==============================] - 54s 11s/step - loss: 0.0022 - accuracy: 1.0000 - val_loss: 0.2870 - val_accuracy: 0.8800\n",
      "Epoch 9/20\n",
      "4/5 [=======================>......] - ETA: 7s - loss: 0.0196 - accuracy: 1.0000 \n",
      "Epoch 00009: val_loss improved from 0.28697 to 0.17353, saving model to vgg16.h5\n",
      "5/5 [==============================] - 50s 10s/step - loss: 0.0159 - accuracy: 1.0000 - val_loss: 0.1735 - val_accuracy: 0.8800\n",
      "Epoch 10/20\n",
      "4/5 [=======================>......] - ETA: 7s - loss: 0.0151 - accuracy: 1.0000 \n",
      "Epoch 00010: val_loss improved from 0.17353 to 0.09898, saving model to vgg16.h5\n",
      "5/5 [==============================] - 49s 10s/step - loss: 0.0122 - accuracy: 1.0000 - val_loss: 0.0990 - val_accuracy: 1.0000\n",
      "Epoch 11/20\n",
      "4/5 [=======================>......] - ETA: 7s - loss: 0.0038 - accuracy: 1.0000   \n",
      "Epoch 00011: val_loss improved from 0.09898 to 0.06457, saving model to vgg16.h5\n",
      "5/5 [==============================] - 49s 10s/step - loss: 0.0035 - accuracy: 1.0000 - val_loss: 0.0646 - val_accuracy: 1.0000\n",
      "Epoch 12/20\n",
      "4/5 [=======================>......] - ETA: 7s - loss: 9.2248e-04 - accuracy: 1.0000\n",
      "Epoch 00012: val_loss improved from 0.06457 to 0.04982, saving model to vgg16.h5\n",
      "5/5 [==============================] - 50s 10s/step - loss: 9.2745e-04 - accuracy: 1.0000 - val_loss: 0.0498 - val_accuracy: 1.0000\n",
      "Epoch 13/20\n",
      "4/5 [=======================>......] - ETA: 8s - loss: 8.7954e-04 - accuracy: 1.0000 \n",
      "Epoch 00013: val_loss improved from 0.04982 to 0.04308, saving model to vgg16.h5\n",
      "5/5 [==============================] - 53s 11s/step - loss: 8.1684e-04 - accuracy: 1.0000 - val_loss: 0.0431 - val_accuracy: 1.0000\n",
      "Epoch 14/20\n",
      "4/5 [=======================>......] - ETA: 9s - loss: 0.0015 - accuracy: 1.0000 \n",
      "Epoch 00014: val_loss improved from 0.04308 to 0.03980, saving model to vgg16.h5\n",
      "5/5 [==============================] - 62s 12s/step - loss: 0.0012 - accuracy: 1.0000 - val_loss: 0.0398 - val_accuracy: 1.0000\n",
      "Epoch 15/20\n",
      "4/5 [=======================>......] - ETA: 8s - loss: 0.0012 - accuracy: 1.0000 \n",
      "Epoch 00015: val_loss improved from 0.03980 to 0.03809, saving model to vgg16.h5\n",
      "5/5 [==============================] - 52s 10s/step - loss: 9.6492e-04 - accuracy: 1.0000 - val_loss: 0.0381 - val_accuracy: 1.0000\n",
      "Epoch 16/20\n",
      "4/5 [=======================>......] - ETA: 7s - loss: 5.7107e-04 - accuracy: 1.0000 \n",
      "Epoch 00016: val_loss improved from 0.03809 to 0.03734, saving model to vgg16.h5\n",
      "5/5 [==============================] - 50s 10s/step - loss: 5.5599e-04 - accuracy: 1.0000 - val_loss: 0.0373 - val_accuracy: 1.0000\n",
      "Epoch 17/20\n",
      "4/5 [=======================>......] - ETA: 7s - loss: 2.8255e-04 - accuracy: 1.0000 \n",
      "Epoch 00017: val_loss improved from 0.03734 to 0.03700, saving model to vgg16.h5\n",
      "5/5 [==============================] - 49s 10s/step - loss: 3.5970e-04 - accuracy: 1.0000 - val_loss: 0.0370 - val_accuracy: 1.0000\n",
      "Epoch 18/20\n",
      "4/5 [=======================>......] - ETA: 7s - loss: 3.7065e-04 - accuracy: 1.0000 \n",
      "Epoch 00018: val_loss improved from 0.03700 to 0.03684, saving model to vgg16.h5\n",
      "5/5 [==============================] - 50s 10s/step - loss: 3.0616e-04 - accuracy: 1.0000 - val_loss: 0.0368 - val_accuracy: 1.0000\n",
      "Epoch 19/20\n",
      "4/5 [=======================>......] - ETA: 7s - loss: 5.5573e-04 - accuracy: 1.0000 \n",
      "Epoch 00019: val_loss did not improve from 0.03684\n",
      "5/5 [==============================] - 49s 10s/step - loss: 6.2415e-04 - accuracy: 1.0000 - val_loss: 0.0369 - val_accuracy: 1.0000\n",
      "Epoch 20/20\n",
      "4/5 [=======================>......] - ETA: 7s - loss: 2.7804e-04 - accuracy: 1.0000 \n",
      "Epoch 00020: val_loss did not improve from 0.03684\n",
      "5/5 [==============================] - 50s 10s/step - loss: 3.3445e-04 - accuracy: 1.0000 - val_loss: 0.0372 - val_accuracy: 1.0000\n"
     ]
    }
   ],
   "source": [
    "history = model.fit_generator(generator=train_generator,steps_per_epoch=5,epochs=20,verbose=1,\n",
    "                             validation_data=validation_generator,validation_steps=5,callbacks=[checkpoint,early])"
   ]
  },
  {
   "cell_type": "code",
   "execution_count": 14,
   "metadata": {},
   "outputs": [
    {
     "data": {
      "image/png": "[encoded data removed]",
      "text/plain": [
       "<Figure size 576x360 with 1 Axes>"
      ]
     },
     "metadata": {
      "needs_background": "light"
     },
     "output_type": "display_data"
    }
   ],
   "source": [
    "#Plot Graph to see the result\n",
    "plt.figure(figsize=(8,5))\n",
    "plt.plot(history.history[\"accuracy\"])\n",
    "plt.plot(history.history['val_accuracy'])\n",
    "plt.plot(history.history['loss'])\n",
    "plt.plot(history.history['val_loss'])\n",
    "plt.title(\"Model Accuracy\")\n",
    "plt.ylabel(\"Accuracy\")\n",
    "plt.xlabel(\"Epoch\")\n",
    "plt.legend([\"Accuracy\",\"Validation Accuracy\",\"Loss\",\"Validation Loss\"])\n",
    "plt.show()"
   ]
  },
  {
   "cell_type": "code",
   "execution_count": 15,
   "metadata": {},
   "outputs": [],
   "source": [
    "#Save the model\n",
    "#model.save('vgg16.h5')"
   ]
  },
  {
   "cell_type": "markdown",
   "metadata": {},
   "source": [
    "### Model Evaluation"
   ]
  },
  {
   "cell_type": "code",
   "execution_count": 16,
   "metadata": {},
   "outputs": [
    {
     "name": "stdout",
     "output_type": "stream",
     "text": [
      "Found 70 images belonging to 7 classes.\n"
     ]
    }
   ],
   "source": [
    "test_datagen = ImageDataGenerator(rescale=1./255)\n",
    "\n",
    "test_generator = test_datagen.flow_from_directory(\n",
    "        test_dir,\n",
    "        target_size=(224, 224),\n",
    "        batch_size=5,\n",
    "        class_mode='categorical',\n",
    "        classes = cl,\n",
    "        seed = 0,\n",
    "        shuffle=False)"
   ]
  },
  {
   "cell_type": "code",
   "execution_count": 17,
   "metadata": {},
   "outputs": [
    {
     "data": {
      "text/plain": [
       "14"
      ]
     },
     "execution_count": 17,
     "metadata": {},
     "output_type": "execute_result"
    }
   ],
   "source": [
    "len(test_generator)"
   ]
  },
  {
   "cell_type": "code",
   "execution_count": 18,
   "metadata": {},
   "outputs": [],
   "source": [
    "vgg = model"
   ]
  },
  {
   "cell_type": "code",
   "execution_count": 19,
   "metadata": {},
   "outputs": [
    {
     "name": "stdout",
     "output_type": "stream",
     "text": [
      "14/14 [==============================] - 34s 2s/step - loss: 0.0339 - accuracy: 0.9857\n"
     ]
    }
   ],
   "source": [
    "vggscore = vgg.evaluate_generator(test_generator,steps=14,verbose=1)"
   ]
  },
  {
   "cell_type": "code",
   "execution_count": 20,
   "metadata": {},
   "outputs": [
    {
     "data": {
      "text/plain": [
       "[0.033865525072282514, 0.98571426]"
      ]
     },
     "execution_count": 20,
     "metadata": {},
     "output_type": "execute_result"
    }
   ],
   "source": [
    "vggscore"
   ]
  },
  {
   "cell_type": "code",
   "execution_count": 21,
   "metadata": {},
   "outputs": [
    {
     "data": {
      "text/plain": [
       "['loss', 'accuracy']"
      ]
     },
     "execution_count": 21,
     "metadata": {},
     "output_type": "execute_result"
    }
   ],
   "source": [
    "vgg.metrics_names"
   ]
  },
  {
   "cell_type": "code",
   "execution_count": 23,
   "metadata": {},
   "outputs": [
    {
     "name": "stdout",
     "output_type": "stream",
     "text": [
      "Accuracy for VGG16 is 98.57%\n"
     ]
    }
   ],
   "source": [
    "print(\"Accuracy for VGG16 is %.2f%%\" % (vggscore[1]*100))"
   ]
  },
  {
   "cell_type": "markdown",
   "metadata": {},
   "source": [
    "### Model Prediction"
   ]
  },
  {
   "cell_type": "code",
   "execution_count": 24,
   "metadata": {},
   "outputs": [
    {
     "name": "stdout",
     "output_type": "stream",
     "text": [
      "14/14 [==============================] - 33s 2s/step\n"
     ]
    }
   ],
   "source": [
    "vgg_predict = vgg.predict_generator(generator=test_generator,steps=14,verbose=1)"
   ]
  },
  {
   "cell_type": "code",
   "execution_count": 25,
   "metadata": {},
   "outputs": [
    {
     "data": {
      "text/plain": [
       "array([[9.99688983e-01, 5.46045840e-07, 2.54093960e-04, 3.57778918e-05,\n",
       "        1.08463000e-05, 3.98187422e-06, 5.88336979e-06],\n",
       "       [9.99882221e-01, 1.29517119e-07, 2.76568935e-05, 3.08525978e-06,\n",
       "        8.29564015e-05, 1.70666215e-06, 2.21019900e-06],\n",
       "       [9.99681234e-01, 1.62556216e-06, 1.07408472e-04, 3.26781992e-05,\n",
       "        1.60740849e-04, 7.98541078e-06, 8.31320358e-06],\n",
       "       [9.99608815e-01, 1.12046018e-06, 6.43892126e-05, 3.83425104e-05,\n",
       "        2.73294107e-04, 5.29512545e-06, 8.99218958e-06],\n",
       "       [9.98019218e-01, 9.46349246e-07, 1.71628722e-03, 1.46655526e-04,\n",
       "        4.19338066e-05, 1.65604615e-05, 5.84521476e-05],\n",
       "       [9.99896765e-01, 3.94855491e-08, 3.55918055e-05, 7.62175296e-06,\n",
       "        5.80431297e-05, 5.36130187e-07, 1.46518198e-06],\n",
       "       [9.99969840e-01, 1.60586723e-07, 1.46780740e-05, 2.75486855e-06,\n",
       "        9.57524480e-06, 1.04139679e-06, 1.97233567e-06],\n",
       "       [9.99009013e-01, 1.69040516e-06, 3.26546229e-04, 3.49483198e-05,\n",
       "        5.75131213e-04, 2.94083366e-05, 2.33367064e-05],\n",
       "       [9.99267757e-01, 5.79931736e-07, 6.21387910e-04, 3.01122691e-05,\n",
       "        4.42238997e-05, 9.44898693e-06, 2.65817926e-05],\n",
       "       [9.85447407e-01, 4.57615643e-05, 1.20913181e-02, 3.22366570e-04,\n",
       "        1.91164890e-03, 8.94599216e-05, 9.19283630e-05],\n",
       "       [1.63386531e-07, 9.99998689e-01, 1.17949526e-07, 5.38063460e-08,\n",
       "        3.66279718e-09, 2.07371244e-07, 8.20569767e-07],\n",
       "       [6.61888635e-06, 9.99684811e-01, 2.79461274e-05, 5.77984383e-06,\n",
       "        5.52783206e-07, 4.73344808e-05, 2.26831165e-04],\n",
       "       [1.57552461e-06, 9.99992013e-01, 7.17420050e-07, 1.45590809e-06,\n",
       "        2.91256043e-07, 1.20741845e-06, 2.83041368e-06],\n",
       "       [5.72882357e-07, 9.99996066e-01, 1.11817485e-06, 4.13641516e-07,\n",
       "        5.62981217e-09, 6.32102740e-07, 1.25732970e-06],\n",
       "       [1.62205561e-05, 9.99735773e-01, 6.30525392e-05, 8.03325111e-06,\n",
       "        2.86391219e-06, 1.35372302e-05, 1.60517229e-04],\n",
       "       [1.86087959e-07, 9.99997258e-01, 6.89671992e-07, 2.70230657e-07,\n",
       "        3.59979357e-09, 4.18061148e-07, 1.07493770e-06],\n",
       "       [1.20593256e-06, 9.99954581e-01, 2.33821065e-05, 6.84924362e-06,\n",
       "        7.92562247e-08, 1.55388591e-06, 1.23651880e-05],\n",
       "       [1.23488604e-07, 9.99998927e-01, 9.09443898e-08, 9.11329678e-08,\n",
       "        1.80373512e-08, 3.69791422e-07, 3.61737477e-07],\n",
       "       [1.89318416e-06, 9.99980450e-01, 3.84491159e-06, 2.78151379e-06,\n",
       "        9.66666335e-07, 3.78027971e-06, 6.31783405e-06],\n",
       "       [4.01050556e-07, 9.99995351e-01, 7.39711766e-07, 9.65474783e-07,\n",
       "        2.05911476e-07, 8.53562312e-07, 1.56702458e-06],\n",
       "       [6.52099168e-03, 1.61319222e-05, 9.74378169e-01, 1.40231522e-02,\n",
       "        1.26671523e-03, 2.50397366e-03, 1.29099085e-03],\n",
       "       [7.42811302e-04, 2.95630548e-06, 9.94940281e-01, 3.37960734e-03,\n",
       "        3.62978521e-04, 3.79854639e-04, 1.91549421e-04],\n",
       "       [4.52964050e-05, 8.36517529e-07, 9.99832392e-01, 8.58946223e-05,\n",
       "        2.25431086e-06, 2.43405921e-05, 8.96793154e-06],\n",
       "       [4.25443985e-04, 1.28861066e-05, 9.96273756e-01, 5.88887488e-04,\n",
       "        7.78728281e-05, 2.43306998e-03, 1.88120146e-04],\n",
       "       [6.04701345e-05, 1.07435064e-07, 9.99363005e-01, 3.70520953e-04,\n",
       "        2.46351119e-05, 1.60223877e-04, 2.10597555e-05],\n",
       "       [2.81889981e-04, 1.56087094e-06, 9.95111406e-01, 2.25480692e-03,\n",
       "        6.32613228e-05, 1.55687134e-03, 7.30319880e-04],\n",
       "       [1.42986642e-03, 3.97054777e-07, 9.97261405e-01, 7.92555977e-04,\n",
       "        2.81780580e-04, 1.79002207e-04, 5.48791722e-05],\n",
       "       [3.72867544e-05, 7.90342824e-07, 9.99852538e-01, 7.70715633e-05,\n",
       "        1.14142188e-06, 1.54193694e-05, 1.57129216e-05],\n",
       "       [3.49745533e-05, 3.58138391e-06, 9.99006093e-01, 1.16934498e-04,\n",
       "        1.70465773e-06, 1.10930130e-04, 7.25836435e-04],\n",
       "       [5.09602542e-04, 1.00030138e-06, 9.97371435e-01, 1.52363395e-03,\n",
       "        5.67217321e-05, 3.19930114e-04, 2.17539899e-04],\n",
       "       [4.44174361e-07, 1.11739462e-08, 3.77806100e-06, 9.99988437e-01,\n",
       "        5.74368460e-06, 1.34993331e-06, 2.20800118e-07],\n",
       "       [1.35019727e-05, 2.90640514e-07, 4.37439703e-05, 9.99674201e-01,\n",
       "        2.32398379e-04, 2.68284311e-05, 9.09883420e-06],\n",
       "       [5.29814024e-08, 1.18481204e-07, 1.26323212e-04, 9.99869943e-01,\n",
       "        5.04487687e-08, 2.47562912e-06, 1.03528816e-06],\n",
       "       [4.42244385e-07, 1.01193635e-07, 2.34541294e-04, 9.99755681e-01,\n",
       "        1.93684130e-07, 6.69201972e-06, 2.23999859e-06],\n",
       "       [9.93288268e-06, 4.89739591e-07, 6.91370442e-05, 9.99716938e-01,\n",
       "        3.20366562e-05, 5.42736852e-05, 1.17137177e-04],\n",
       "       [2.84008053e-07, 4.29707692e-09, 8.68784991e-06, 9.99988914e-01,\n",
       "        1.23756217e-06, 4.97141286e-07, 4.39379278e-07],\n",
       "       [7.70537838e-07, 2.46489236e-07, 4.20488068e-04, 9.99556243e-01,\n",
       "        4.91960520e-07, 1.38019068e-05, 7.95961296e-06],\n",
       "       [2.68318399e-08, 3.89549815e-09, 1.71116553e-05, 9.99981999e-01,\n",
       "        3.53113876e-08, 5.38816778e-07, 2.06825447e-07],\n",
       "       [3.39145656e-04, 1.77014426e-05, 2.34635780e-03, 9.92947340e-01,\n",
       "        1.11370799e-04, 1.30067975e-03, 2.93747778e-03],\n",
       "       [1.18701291e-05, 1.75535588e-05, 7.72873813e-04, 9.98144507e-01,\n",
       "        1.19669654e-04, 8.15777748e-04, 1.17688469e-04],\n",
       "       [7.59807474e-04, 7.30179599e-05, 1.95761630e-03, 5.93259989e-04,\n",
       "        9.75977421e-01, 2.76054721e-03, 1.78783182e-02],\n",
       "       [9.16027875e-06, 1.62878795e-08, 1.21902792e-06, 9.33644242e-06,\n",
       "        9.99974847e-01, 3.87313185e-06, 1.50515791e-06],\n",
       "       [7.57856978e-05, 3.65008958e-07, 2.44887371e-04, 1.57614646e-04,\n",
       "        9.99098539e-01, 2.13904394e-04, 2.08890924e-04],\n",
       "       [1.69439788e-03, 3.57791811e-04, 1.53107747e-01, 3.00099432e-01,\n",
       "        3.77359509e-01, 5.98761886e-02, 1.07505076e-01],\n",
       "       [1.78564005e-04, 3.23789368e-06, 1.28221582e-04, 2.24149800e-04,\n",
       "        9.98474658e-01, 3.54028452e-04, 6.37134537e-04],\n",
       "       [7.83854557e-06, 2.76552843e-08, 2.37213826e-05, 1.61182848e-04,\n",
       "        9.99775946e-01, 2.63117727e-05, 5.03256342e-06],\n",
       "       [3.15917132e-04, 2.02409183e-06, 4.35225572e-03, 6.20047981e-03,\n",
       "        9.86247480e-01, 1.76767434e-03, 1.11422793e-03],\n",
       "       [8.26287363e-03, 1.95342768e-03, 8.81036073e-02, 9.83338431e-03,\n",
       "        3.48736197e-01, 3.73724736e-02, 5.05738020e-01],\n",
       "       [4.56441376e-05, 1.15568128e-07, 2.29885954e-05, 9.99201147e-05,\n",
       "        9.99653101e-01, 1.52776702e-04, 2.54854240e-05],\n",
       "       [4.56913622e-05, 9.55840960e-07, 1.69106424e-05, 4.93873231e-05,\n",
       "        9.99774516e-01, 6.08587216e-05, 5.16528853e-05],\n",
       "       [2.48457877e-06, 6.66505048e-06, 2.92957993e-03, 9.36182041e-05,\n",
       "        3.67090138e-06, 9.93442655e-01, 3.52135254e-03],\n",
       "       [1.98028574e-05, 1.81415271e-05, 1.48596680e-02, 2.37906259e-02,\n",
       "        1.33344620e-05, 9.57535744e-01, 3.76261654e-03],\n",
       "       [8.37911102e-06, 1.69669493e-05, 1.22690178e-03, 2.99544423e-04,\n",
       "        2.55318628e-05, 9.94682252e-01, 3.74043477e-03],\n",
       "       [3.22923705e-04, 1.71790271e-05, 2.44510528e-02, 2.16317140e-02,\n",
       "        1.92161344e-04, 9.52576876e-01, 8.08080658e-04],\n",
       "       [4.49709114e-06, 5.46060583e-08, 5.10063401e-05, 2.25036376e-04,\n",
       "        8.76587146e-05, 9.99613464e-01, 1.83115699e-05],\n",
       "       [1.12080867e-04, 7.43136934e-06, 6.27629412e-03, 9.52463411e-03,\n",
       "        1.70535946e-04, 9.83161032e-01, 7.47996091e-04],\n",
       "       [1.46908817e-04, 6.24633094e-06, 1.87178561e-03, 2.62852106e-03,\n",
       "        5.85247180e-04, 9.93002117e-01, 1.75916567e-03],\n",
       "       [8.38454753e-07, 8.22729760e-08, 3.00365034e-04, 5.60847577e-04,\n",
       "        5.91816843e-06, 9.99094129e-01, 3.78521036e-05],\n",
       "       [2.67895871e-06, 2.86017837e-07, 3.77043267e-04, 1.13946071e-03,\n",
       "        1.20191244e-05, 9.98245358e-01, 2.23152689e-04],\n",
       "       [1.01774940e-05, 9.70698784e-06, 7.06331851e-03, 5.09229163e-03,\n",
       "        8.99749284e-06, 9.86972630e-01, 8.42922018e-04],\n",
       "       [8.44992610e-05, 5.19339192e-05, 1.26372266e-03, 1.06708787e-03,\n",
       "        6.96363102e-04, 8.97943880e-03, 9.87856984e-01],\n",
       "       [4.14656315e-05, 8.39799213e-06, 7.98493929e-05, 5.23964060e-04,\n",
       "        1.29256863e-03, 1.62055797e-03, 9.96433139e-01],\n",
       "       [2.52646441e-05, 1.50342157e-05, 2.44097493e-04, 9.54230854e-05,\n",
       "        6.35665401e-06, 3.52805480e-04, 9.99260962e-01],\n",
       "       [4.90413368e-05, 2.04451953e-06, 1.04088977e-03, 1.74246356e-03,\n",
       "        1.07157102e-04, 2.18763249e-03, 9.94870782e-01],\n",
       "       [6.79833875e-07, 3.64709479e-07, 6.93079483e-06, 1.42448823e-06,\n",
       "        2.82191394e-07, 6.22415537e-05, 9.99928117e-01],\n",
       "       [3.01963028e-05, 4.30337741e-06, 1.97766745e-03, 9.41831036e-04,\n",
       "        7.43867931e-05, 1.31563516e-03, 9.95656013e-01],\n",
       "       [1.09943627e-04, 7.97567918e-05, 3.53519595e-03, 2.45218095e-03,\n",
       "        6.91326859e-04, 2.70944145e-02, 9.66037154e-01],\n",
       "       [3.50667542e-05, 3.08854601e-06, 4.18737764e-03, 2.52939761e-03,\n",
       "        5.48157404e-05, 1.11730141e-03, 9.92072999e-01],\n",
       "       [2.56878702e-04, 2.76955120e-06, 3.14051635e-04, 2.83835572e-03,\n",
       "        2.03962345e-03, 2.15802365e-03, 9.92390335e-01],\n",
       "       [4.42868441e-05, 9.29573071e-06, 3.84821411e-04, 2.55058898e-04,\n",
       "        1.77921465e-04, 2.30657915e-03, 9.96822000e-01]], dtype=float32)"
      ]
     },
     "execution_count": 25,
     "metadata": {},
     "output_type": "execute_result"
    }
   ],
   "source": [
    "vgg_predict"
   ]
  },
  {
   "cell_type": "code",
   "execution_count": 26,
   "metadata": {},
   "outputs": [
    {
     "data": {
      "text/plain": [
       "70"
      ]
     },
     "execution_count": 26,
     "metadata": {},
     "output_type": "execute_result"
    }
   ],
   "source": [
    "len(vgg_predict)"
   ]
  },
  {
   "cell_type": "code",
   "execution_count": 27,
   "metadata": {},
   "outputs": [
    {
     "data": {
      "text/plain": [
       "array([0, 0, 0, 0, 0, 0, 0, 0, 0, 0, 1, 1, 1, 1, 1, 1, 1, 1, 1, 1, 2, 2,\n",
       "       2, 2, 2, 2, 2, 2, 2, 2, 3, 3, 3, 3, 3, 3, 3, 3, 3, 3, 4, 4, 4, 4,\n",
       "       4, 4, 4, 6, 4, 4, 5, 5, 5, 5, 5, 5, 5, 5, 5, 5, 6, 6, 6, 6, 6, 6,\n",
       "       6, 6, 6, 6], dtype=int64)"
      ]
     },
     "execution_count": 27,
     "metadata": {},
     "output_type": "execute_result"
    }
   ],
   "source": [
    "predicted_class_indices = np.argmax(vgg_predict,axis=1)\n",
    "predicted_class_indices"
   ]
  },
  {
   "cell_type": "code",
   "execution_count": 28,
   "metadata": {},
   "outputs": [
    {
     "data": {
      "text/plain": [
       "{'5': 0, '10': 1, '20': 2, '50': 3, '100': 4, '200': 5, '500': 6}"
      ]
     },
     "execution_count": 28,
     "metadata": {},
     "output_type": "execute_result"
    }
   ],
   "source": [
    "labels = (test_generator.class_indices)\n",
    "labels"
   ]
  },
  {
   "cell_type": "code",
   "execution_count": 29,
   "metadata": {},
   "outputs": [
    {
     "data": {
      "text/plain": [
       "{0: '5', 1: '10', 2: '20', 3: '50', 4: '100', 5: '200', 6: '500'}"
      ]
     },
     "execution_count": 29,
     "metadata": {},
     "output_type": "execute_result"
    }
   ],
   "source": [
    "labels = dict((v,k) for k,v in labels.items())\n",
    "labels"
   ]
  },
  {
   "cell_type": "code",
   "execution_count": 30,
   "metadata": {},
   "outputs": [
    {
     "data": {
      "text/plain": [
       "['5',\n",
       " '5',\n",
       " '5',\n",
       " '5',\n",
       " '5',\n",
       " '5',\n",
       " '5',\n",
       " '5',\n",
       " '5',\n",
       " '5',\n",
       " '10',\n",
       " '10',\n",
       " '10',\n",
       " '10',\n",
       " '10',\n",
       " '10',\n",
       " '10',\n",
       " '10',\n",
       " '10',\n",
       " '10',\n",
       " '20',\n",
       " '20',\n",
       " '20',\n",
       " '20',\n",
       " '20',\n",
       " '20',\n",
       " '20',\n",
       " '20',\n",
       " '20',\n",
       " '20',\n",
       " '50',\n",
       " '50',\n",
       " '50',\n",
       " '50',\n",
       " '50',\n",
       " '50',\n",
       " '50',\n",
       " '50',\n",
       " '50',\n",
       " '50',\n",
       " '100',\n",
       " '100',\n",
       " '100',\n",
       " '100',\n",
       " '100',\n",
       " '100',\n",
       " '100',\n",
       " '500',\n",
       " '100',\n",
       " '100',\n",
       " '200',\n",
       " '200',\n",
       " '200',\n",
       " '200',\n",
       " '200',\n",
       " '200',\n",
       " '200',\n",
       " '200',\n",
       " '200',\n",
       " '200',\n",
       " '500',\n",
       " '500',\n",
       " '500',\n",
       " '500',\n",
       " '500',\n",
       " '500',\n",
       " '500',\n",
       " '500',\n",
       " '500',\n",
       " '500']"
      ]
     },
     "execution_count": 30,
     "metadata": {},
     "output_type": "execute_result"
    }
   ],
   "source": [
    "predictions = [labels[k] for k in predicted_class_indices]\n",
    "predictions"
   ]
  },
  {
   "cell_type": "code",
   "execution_count": 31,
   "metadata": {},
   "outputs": [
    {
     "name": "stdout",
     "output_type": "stream",
     "text": [
      "[0 0 0 0 0]\n"
     ]
    }
   ],
   "source": [
    "print(predicted_class_indices[0:5])"
   ]
  },
  {
   "cell_type": "code",
   "execution_count": 32,
   "metadata": {},
   "outputs": [
    {
     "name": "stdout",
     "output_type": "stream",
     "text": [
      "{0: '5', 1: '10', 2: '20', 3: '50', 4: '100', 5: '200', 6: '500'}\n"
     ]
    }
   ],
   "source": [
    "print(labels)"
   ]
  },
  {
   "cell_type": "code",
   "execution_count": 33,
   "metadata": {},
   "outputs": [
    {
     "name": "stdout",
     "output_type": "stream",
     "text": [
      "5\n",
      "5\n",
      "5\n",
      "5\n",
      "5\n"
     ]
    }
   ],
   "source": [
    "for n in predictions[0:5]:\n",
    "    print(n)"
   ]
  },
  {
   "cell_type": "code",
   "execution_count": 35,
   "metadata": {},
   "outputs": [],
   "source": [
    "#The first 5 predictions are 5 euros"
   ]
  },
  {
   "cell_type": "code",
   "execution_count": null,
   "metadata": {},
   "outputs": [],
   "source": []
  },
  {
   "cell_type": "markdown",
   "metadata": {},
   "source": [
    "  "
   ]
  },
  {
   "cell_type": "markdown",
   "metadata": {
    "button": false,
    "new_sheet": false,
    "run_control": {
     "read_only": false
    }
   },
   "source": [
    "### Thank you for completing this lab!\n",
    "\n",
    "This notebook was created by Alex Aklson."
   ]
  },
  {
   "cell_type": "markdown",
   "metadata": {
    "button": false,
    "new_sheet": false,
    "run_control": {
     "read_only": false
    }
   },
   "source": [
    "This notebook is part of a course on **Coursera** called *AI Capstone Project with Deep Learning*. If you accessed this notebook outside the course, you can take this course online by clicking [here](https://cocl.us/DL0321EN_Coursera_Week4_LAB1)."
   ]
  },
  {
   "cell_type": "markdown",
   "metadata": {
    "button": false,
    "new_sheet": false,
    "run_control": {
     "read_only": false
    }
   },
   "source": [
    "<hr>\n",
    "\n",
    "Copyright &copy; 2020 [IBM Developer Skills Network](https://cognitiveclass.ai/?utm_source=bducopyrightlink&utm_medium=dswb&utm_campaign=bdu). This notebook and its source code are released under the terms of the [MIT License](https://bigdatauniversity.com/mit-license/)."
   ]
  }
 ],
 "metadata": {
  "kernelspec": {
   "display_name": "Python 3",
   "language": "python",
   "name": "python3"
  },
  "language_info": {
   "codemirror_mode": {
    "name": "ipython",
    "version": 3
   },
   "file_extension": ".py",
   "mimetype": "text/x-python",
   "name": "python",
   "nbconvert_exporter": "python",
   "pygments_lexer": "ipython3",
   "version": "3.7.6"
  }
 },
 "nbformat": 4,
 "nbformat_minor": 4
}
